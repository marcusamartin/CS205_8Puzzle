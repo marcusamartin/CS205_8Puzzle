{
  "nbformat": 4,
  "nbformat_minor": 0,
  "metadata": {
    "colab": {
      "name": "CS205_8Puzzle.ipynb",
      "provenance": [],
      "collapsed_sections": [],
      "authorship_tag": "ABX9TyOn/X60M/yv9swSEy+fadFT",
      "include_colab_link": true
    },
    "kernelspec": {
      "name": "python3",
      "display_name": "Python 3"
    },
    "language_info": {
      "name": "python"
    }
  },
  "cells": [
    {
      "cell_type": "markdown",
      "metadata": {
        "id": "view-in-github",
        "colab_type": "text"
      },
      "source": [
        "<a href=\"https://colab.research.google.com/github/marcusamartin/CS205_8Puzzle/blob/main/CS205_8Puzzle.ipynb\" target=\"_parent\"><img src=\"https://colab.research.google.com/assets/colab-badge.svg\" alt=\"Open In Colab\"/></a>"
      ]
    },
    {
      "cell_type": "code",
      "metadata": {
        "id": "xOZJOTdLO2Za"
      },
      "source": [
        "def main():\n",
        "    print(\"Welcome to my 8-Puzzle Solver.\\n\")\n",
        "    puzzleChoice = int(input(\"Type '1' to use a default puzzle, or '2' to create your own.\\n\"))\n",
        "    puzzle = [[], [], []]\n",
        "    if (puzzleChoice == 1):\n",
        "        puzzle = [['1', '2', '3'], ['4', '5', '6'], ['7', '8', '9']]\n",
        "    elif (puzzleChoice == 2):\n",
        "        print(\"Enter your puzzle, using a zero to represent the blank. Please only enter valid 8-puzzles. Enter the puzzle delimiting the numbers with a space. RET only when finished.\\n\")\n",
        "        firstRow = input(\"Enter the first row: \").split()\n",
        "        secondRow = input(\"Enter the second row: \").split()\n",
        "        thirdRow = input(\"Enter the third row: \").split()\n",
        "        puzzle = [firstRow, secondRow, thirdRow]\n",
        "        \n",
        "    algorithm = int(input(\"Select algorithm. (1) for Uniform Cost Search, (2) for the Misplaced Tile Heuristic, or (3) the Manhattan Distance Heuristic.\\n\"))\n",
        "    \n",
        "    print(\"\\n\")\n",
        "    print(puzzle)\n",
        "    print(\"\\n\")\n",
        "    print(algorithm)"
      ],
      "execution_count": null,
      "outputs": []
    },
    {
      "cell_type": "code",
      "metadata": {
        "colab": {
          "base_uri": "https://localhost:8080/"
        },
        "id": "zzyZ6VYXO6-z",
        "outputId": "c1606ddd-0de3-4f55-8f1e-965a2f3fc3ee"
      },
      "source": [
        "main()"
      ],
      "execution_count": null,
      "outputs": [
        {
          "output_type": "stream",
          "text": [
            "Welcome to my 8-Puzzle Solver.\n",
            "\n",
            "Type '1' to use a default puzzle, or '2' to create your own.\n",
            "1\n",
            "Select algorithm. (1) for Uniform Cost Search, (2) for the Misplaced Tile Heuristic, or (3) the Manhattan Distance Heuristic.\n",
            "3\n",
            "\n",
            "\n",
            "[['1', '2', '3'], ['4', '5', '6'], ['7', '8', '9']]\n",
            "\n",
            "\n",
            "3\n"
          ],
          "name": "stdout"
        }
      ]
    }
  ]
}